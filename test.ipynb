{
 "cells": [
  {
   "cell_type": "code",
   "execution_count": 79,
   "metadata": {
    "collapsed": true,
    "pycharm": {
     "is_executing": false
    }
   },
   "outputs": [],
   "source": [
    "import jieba\n",
    "import pandas as pd\n",
    "import numpy as np\n",
    "import os\n",
    "import jieba.analyse\n",
    "from pyspark.ml.common import long\n",
    "\n",
    "label_columns=['tid','name' ]\n",
    "label_df = pd.read_csv(os.path.join('data/ods_t_label/part-m-00000'),sep='\\t',names = label_columns)\n",
    "label_record_columns= ['tid' ,'fk_resource_type_tid' ,'fk_label_tid' ]\n",
    "label_record_df = pd.read_csv(os.path.join('data/ods_t_label_record/part-m-00000'),sep='\\t',names = label_record_columns)\n",
    "book_label_temp_df=pd.merge(label_record_df,label_df,left_on='fk_label_tid',right_on='tid',how='left')\n",
    "\n",
    "\n",
    "\n",
    "\n",
    "\n"
   ]
  },
  {
   "cell_type": "code",
   "execution_count": 98,
   "outputs": [
    {
     "data": {
      "text/plain": "fk_resource_type_tid\n18              [职场, 个人成长, 斯坦福大学, 职业发展, 创意, 创意课, 双披萨原则, 平行思维法]\n19           [亲子, 家庭, 教育, 育儿, 玩具, 孩子, 2-3岁, 4-7岁, 控制型父母, 放任...\n20            [心灵, 情感, 心流, 情绪管理, 积极心理学, 领袖心理学, 冠军的诅咒, 四个象限的人生]\n21           [管理, 事业, 工作, 职场, 团队, 愿景, 反馈, 授权, 潜能, 关键要务, 接班人...\n22                [沟通, 演讲, 高效能, 自我成长, 沟通技巧, 斯坦福大学, 坡道, 发现, 甜点]\n                                   ...                        \n200000092                           [沟通, 同理心, 共情, 安慰, 读懂, 不听话]\n200000093                    [沟通, 靠谱, 基本功, 分析问题, 职场成熟度, 核心竞争力]\n200000094                             [概率, 认知, 理性, 逻辑, 成见, 谬误]\n200000095                     [思维, 自信, 场景, 友谊, 人脉, 管理领导, 横向领导]\n200000096    [历史, 拿破仑, 大战略, 狐狸, 刺猬, 狐狸型人, 刺猬型人, 波希战争, 阿尔达班,...\nName: name, Length: 461, dtype: object"
     },
     "metadata": {},
     "output_type": "execute_result",
     "execution_count": 98
    }
   ],
   "source": [
    "\n",
    "# def to_string(s):\n",
    "#     for\n",
    "ids_df=book_label_temp_df.groupby('fk_resource_type_tid')['tid_x'].apply( list).reset_index(name='label_ids')\n",
    "names_df=book_label_temp_df.groupby('fk_resource_type_tid')['name'].apply( list).reset_index(name='label_names')\n",
    "book_label_df=ids_df.merge(names_df)\n",
    "names_df\n",
    "book_label_temp_df.groupby('fk_resource_type_tid')['name'].apply( list)"
   ],
   "metadata": {
    "collapsed": false,
    "pycharm": {
     "name": "#%%\n",
     "is_executing": false
    }
   }
  },
  {
   "cell_type": "code",
   "execution_count": 85,
   "outputs": [
    {
     "data": {
      "text/plain": "     fk_resource_type_tid                                          label_ids  \\\n0                      18  [5575067554168, 5575067554161, 5575067554166, ...   \n1                      19  [5575067554146, 5575067554154, 5575067554158, ...   \n2                      20  [5575067560863, 5575067560864, 5575067560862, ...   \n3                      21  [5575067554765, 5575067554755, 5575067554759, ...   \n4                      22  [5575067554130, 5575067554132, 5575067554135, ...   \n..                    ...                                                ...   \n456             200000092  [5575067561656, 5575067561654, 5575067561653, ...   \n457             200000093  [5575067561649, 5575067561651, 5575067561647, ...   \n458             200000094  [5575067561671, 5575067561673, 5575067561672, ...   \n459             200000095  [5575067561642, 5575067561645, 5575067561641, ...   \n460             200000096  [5575067561704, 5575067561712, 5575067561705, ...   \n\n                                           label_names  \n0       [职场, 个人成长, 斯坦福大学, 职业发展, 创意, 创意课, 双披萨原则, 平行思维法]  \n1    [亲子, 家庭, 教育, 育儿, 玩具, 孩子, 2-3岁, 4-7岁, 控制型父母, 放任...  \n2     [心灵, 情感, 心流, 情绪管理, 积极心理学, 领袖心理学, 冠军的诅咒, 四个象限的人生]  \n3    [管理, 事业, 工作, 职场, 团队, 愿景, 反馈, 授权, 潜能, 关键要务, 接班人...  \n4         [沟通, 演讲, 高效能, 自我成长, 沟通技巧, 斯坦福大学, 坡道, 发现, 甜点]  \n..                                                 ...  \n456                         [沟通, 同理心, 共情, 安慰, 读懂, 不听话]  \n457                  [沟通, 靠谱, 基本功, 分析问题, 职场成熟度, 核心竞争力]  \n458                           [概率, 认知, 理性, 逻辑, 成见, 谬误]  \n459                   [思维, 自信, 场景, 友谊, 人脉, 管理领导, 横向领导]  \n460  [历史, 拿破仑, 大战略, 狐狸, 刺猬, 狐狸型人, 刺猬型人, 波希战争, 阿尔达班,...  \n\n[461 rows x 3 columns]",
      "text/html": "<div>\n<style scoped>\n    .dataframe tbody tr th:only-of-type {\n        vertical-align: middle;\n    }\n\n    .dataframe tbody tr th {\n        vertical-align: top;\n    }\n\n    .dataframe thead th {\n        text-align: right;\n    }\n</style>\n<table border=\"1\" class=\"dataframe\">\n  <thead>\n    <tr style=\"text-align: right;\">\n      <th></th>\n      <th>fk_resource_type_tid</th>\n      <th>label_ids</th>\n      <th>label_names</th>\n    </tr>\n  </thead>\n  <tbody>\n    <tr>\n      <th>0</th>\n      <td>18</td>\n      <td>[5575067554168, 5575067554161, 5575067554166, ...</td>\n      <td>[职场, 个人成长, 斯坦福大学, 职业发展, 创意, 创意课, 双披萨原则, 平行思维法]</td>\n    </tr>\n    <tr>\n      <th>1</th>\n      <td>19</td>\n      <td>[5575067554146, 5575067554154, 5575067554158, ...</td>\n      <td>[亲子, 家庭, 教育, 育儿, 玩具, 孩子, 2-3岁, 4-7岁, 控制型父母, 放任...</td>\n    </tr>\n    <tr>\n      <th>2</th>\n      <td>20</td>\n      <td>[5575067560863, 5575067560864, 5575067560862, ...</td>\n      <td>[心灵, 情感, 心流, 情绪管理, 积极心理学, 领袖心理学, 冠军的诅咒, 四个象限的人生]</td>\n    </tr>\n    <tr>\n      <th>3</th>\n      <td>21</td>\n      <td>[5575067554765, 5575067554755, 5575067554759, ...</td>\n      <td>[管理, 事业, 工作, 职场, 团队, 愿景, 反馈, 授权, 潜能, 关键要务, 接班人...</td>\n    </tr>\n    <tr>\n      <th>4</th>\n      <td>22</td>\n      <td>[5575067554130, 5575067554132, 5575067554135, ...</td>\n      <td>[沟通, 演讲, 高效能, 自我成长, 沟通技巧, 斯坦福大学, 坡道, 发现, 甜点]</td>\n    </tr>\n    <tr>\n      <th>...</th>\n      <td>...</td>\n      <td>...</td>\n      <td>...</td>\n    </tr>\n    <tr>\n      <th>456</th>\n      <td>200000092</td>\n      <td>[5575067561656, 5575067561654, 5575067561653, ...</td>\n      <td>[沟通, 同理心, 共情, 安慰, 读懂, 不听话]</td>\n    </tr>\n    <tr>\n      <th>457</th>\n      <td>200000093</td>\n      <td>[5575067561649, 5575067561651, 5575067561647, ...</td>\n      <td>[沟通, 靠谱, 基本功, 分析问题, 职场成熟度, 核心竞争力]</td>\n    </tr>\n    <tr>\n      <th>458</th>\n      <td>200000094</td>\n      <td>[5575067561671, 5575067561673, 5575067561672, ...</td>\n      <td>[概率, 认知, 理性, 逻辑, 成见, 谬误]</td>\n    </tr>\n    <tr>\n      <th>459</th>\n      <td>200000095</td>\n      <td>[5575067561642, 5575067561645, 5575067561641, ...</td>\n      <td>[思维, 自信, 场景, 友谊, 人脉, 管理领导, 横向领导]</td>\n    </tr>\n    <tr>\n      <th>460</th>\n      <td>200000096</td>\n      <td>[5575067561704, 5575067561712, 5575067561705, ...</td>\n      <td>[历史, 拿破仑, 大战略, 狐狸, 刺猬, 狐狸型人, 刺猬型人, 波希战争, 阿尔达班,...</td>\n    </tr>\n  </tbody>\n</table>\n<p>461 rows × 3 columns</p>\n</div>"
     },
     "metadata": {},
     "output_type": "execute_result",
     "execution_count": 85
    }
   ],
   "source": [
    "book_label_df"
   ],
   "metadata": {
    "collapsed": false,
    "pycharm": {
     "name": "#%%\n",
     "is_executing": false
    }
   }
  },
  {
   "cell_type": "code",
   "execution_count": 50,
   "outputs": [],
   "source": [
    "long(34234234)\n"
   ],
   "metadata": {
    "collapsed": false,
    "pycharm": {
     "name": "#%%\n",
     "is_executing": false
    }
   }
  },
  {
   "cell_type": "code",
   "execution_count": null,
   "outputs": [],
   "source": [
    "import pyseldon\n"
   ],
   "metadata": {
    "collapsed": false,
    "pycharm": {
     "name": "#%%\n"
    }
   }
  }
 ],
 "metadata": {
  "language_info": {
   "codemirror_mode": {
    "name": "ipython",
    "version": 2
   },
   "file_extension": ".py",
   "mimetype": "text/x-python",
   "name": "python",
   "nbconvert_exporter": "python",
   "pygments_lexer": "ipython2",
   "version": "2.7.6"
  },
  "kernelspec": {
   "name": "python3",
   "language": "python",
   "display_name": "Python 3"
  },
  "pycharm": {
   "stem_cell": {
    "cell_type": "raw",
    "source": [],
    "metadata": {
     "collapsed": false
    }
   }
  }
 },
 "nbformat": 4,
 "nbformat_minor": 0
}